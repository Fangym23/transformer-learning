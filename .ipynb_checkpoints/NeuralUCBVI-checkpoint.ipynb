{
 "cells": [
  {
   "cell_type": "code",
   "execution_count": 1,
   "metadata": {},
   "outputs": [
    {
     "data": {
      "text/html": [
       "<style>.container { width:95% !important; } </style>"
      ],
      "text/plain": [
       "<IPython.core.display.HTML object>"
      ]
     },
     "metadata": {},
     "output_type": "display_data"
    }
   ],
   "source": [
    "from IPython.core.display import HTML\n",
    "display(HTML('<style>.container { width:95% !important; } </style>'))\n",
    "\n",
    "%load_ext autoreload\n",
    "%autoreload 2"
   ]
  },
  {
   "cell_type": "code",
   "execution_count": 2,
   "metadata": {},
   "outputs": [],
   "source": [
    "import numpy as np\n",
    "import matplotlib.pyplot as plt\n",
    "import seaborn as sns\n",
    "from neural_exploration import *"
   ]
  },
  {
   "cell_type": "markdown",
   "metadata": {},
   "source": [
    "### MDP settings"
   ]
  },
  {
   "cell_type": "code",
   "execution_count": 3,
   "metadata": {},
   "outputs": [],
   "source": [
    "H = 3\n",
    "n_states = 2\n",
    "n_actions = 2\n",
    "n_features = 8\n",
    "\n",
    "noise_std = 0.01\n",
    "reg_factor = 1.0\n",
    "\n",
    "n_episodes = int(2e2)\n",
    "n_sim = 1\n",
    "\n",
    "SEED = 42\n",
    "np.random.seed(SEED)"
   ]
  },
  {
   "cell_type": "markdown",
   "metadata": {},
   "source": [
    "### Neural network settings"
   ]
  },
  {
   "cell_type": "code",
   "execution_count": 4,
   "metadata": {},
   "outputs": [],
   "source": [
    "p = 0.1\n",
    "hidden_size = 16\n",
    "n_layers = 2\n",
    "epochs = 10\n",
    "confidence_scaling_factor = noise_std\n",
    "buffer_size = 100\n",
    "train_every = 1\n",
    "use_cuda = False"
   ]
  },
  {
   "cell_type": "markdown",
   "metadata": {},
   "source": [
    "### NeuralUCB-VI on a Linear MDP"
   ]
  },
  {
   "cell_type": "code",
   "execution_count": 5,
   "metadata": {},
   "outputs": [],
   "source": [
    "a = np.random.randn(n_features)\n",
    "a /= np.linalg.norm(a, ord=2)\n",
    "reward_func = lambda x: np.dot(x, a)\n",
    "\n",
    "mdp = MDPFeatures(H,\n",
    "                  n_states=n_states,\n",
    "                  n_actions=n_actions,\n",
    "                  n_features=n_features,\n",
    "                  reward_func=reward_func,\n",
    "                  noise_std=noise_std,\n",
    "                  seed=SEED,\n",
    "                 )\n",
    "\n",
    "# to check that backward induction works\n",
    "mdp.sanity_policy()"
   ]
  },
  {
   "cell_type": "code",
   "execution_count": 6,
   "metadata": {},
   "outputs": [
    {
     "name": "stderr",
     "output_type": "stream",
     "text": [
      "  0%|          | 0/200 [00:00<?, ?it/s, total regret=1.03]/home/sauxpa/anaconda3/lib/python3.7/site-packages/torch/nn/modules/loss.py:431: UserWarning: Using a target size (torch.Size([])) that is different to the input size (torch.Size([1])). This will likely lead to incorrect results due to broadcasting. Please ensure they have the same size.\n",
      "  return F.mse_loss(input, target, reduction=self.reduction)\n",
      "100%|██████████| 200/200 [00:34<00:00,  5.87it/s, total regret=2.19]\n"
     ]
    }
   ],
   "source": [
    "regrets = np.empty((n_sim, n_episodes))\n",
    "\n",
    "for i in range(n_sim):\n",
    "    mdp.reset_rewards()\n",
    "    model = NeuralUCBVI(mdp,\n",
    "                        hidden_size=hidden_size,\n",
    "                        n_layers=n_layers,\n",
    "                        p=p,\n",
    "                        n_episodes=n_episodes,\n",
    "                        init_state=0,\n",
    "                        reg_factor=reg_factor,\n",
    "                        confidence_scaling_factor=confidence_scaling_factor,\n",
    "                        learning_rate=0.01,\n",
    "                        epochs=epochs,\n",
    "                        train_every=train_every,\n",
    "                        buffer_size=buffer_size,\n",
    "                        use_cuda=use_cuda,\n",
    "                       )\n",
    "    model.run()\n",
    "    regrets[i] = np.cumsum(model.regrets)"
   ]
  },
  {
   "cell_type": "markdown",
   "metadata": {},
   "source": [
    "### Sublinear regret growth : kinda working, but unstable"
   ]
  },
  {
   "cell_type": "code",
   "execution_count": 7,
   "metadata": {},
   "outputs": [
    {
     "data": {
      "image/png": "[encoded data removed]",
      "text/plain": [
       "<Figure size 792x576 with 1 Axes>"
      ]
     },
     "metadata": {},
     "output_type": "display_data"
    },
    {
     "data": {
      "image/png": "[encoded data removed]",
      "text/plain": [
       "<Figure size 576x576 with 2 Axes>"
      ]
     },
     "metadata": {
      "needs_background": "light"
     },
     "output_type": "display_data"
    }
   ],
   "source": [
    "with sns.axes_style('darkgrid'):\n",
    "    fig, ax = plt.subplots(figsize=(11, 8), nrows=1, ncols=1)\n",
    "\n",
    "    t = np.arange(n_episodes)\n",
    "    mean_regrets = np.mean(regrets, axis=0)\n",
    "    std_regrets = np.std(regrets, axis=0) / np.sqrt(regrets.shape[0])\n",
    "    ax.plot(mean_regrets)\n",
    "    ax.fill_between(t, mean_regrets - 2*std_regrets, mean_regrets + 2*std_regrets, alpha=0.15)\n",
    "    ax.set_title('Cumulative regret')\n",
    "\n",
    "    plt.tight_layout()\n",
    "    plt.show()\n",
    "\n",
    "    fig.savefig('figures/neural_ucbvi_linear.pdf')\n",
    "\n",
    "fig, axes = plt.subplots(figsize=(8, 8), nrows=1, ncols=2)\n",
    "ax = axes[0]\n",
    "ax.imshow(model.policy, cmap='gray', vmin=0, vmax=mdp.n_actions-1)\n",
    "ax.set_xticks(range(mdp.n_states))\n",
    "ax.set_xlabel('States')\n",
    "ax.set_yticks([])\n",
    "ax.set_ylabel('MDP horizon')\n",
    "ax.set_title('Learned policy')\n",
    "\n",
    "ax = axes[1]\n",
    "ax.imshow(model.pi_star, cmap='gray', vmin=0, vmax=mdp.n_actions-1)\n",
    "ax.set_xticks(range(mdp.n_states))\n",
    "ax.set_xlabel('States')\n",
    "ax.set_yticks([])\n",
    "ax.set_ylabel('MDP horizon')\n",
    "ax.set_title('Optimal policy')\n",
    "\n",
    "plt.tight_layout()\n",
    "plt.show()\n",
    "\n",
    "fig.savefig('figures/neural_ucbvi_linear_policy.pdf')"
   ]
  },
  {
   "cell_type": "markdown",
   "metadata": {},
   "source": [
    "### NeuralUCB-VI on a Linear transition/quadratic reward MDP"
   ]
  },
  {
   "cell_type": "code",
   "execution_count": 8,
   "metadata": {},
   "outputs": [],
   "source": [
    "a = np.random.randn(n_features)\n",
    "a /= np.linalg.norm(a, ord=2)\n",
    "reward_func = lambda x: 2*np.dot(x, a)**2\n",
    "\n",
    "mdp = MDPFeatures(H,\n",
    "                  n_states=n_states,\n",
    "                  n_actions=n_actions,\n",
    "                  n_features=n_features,\n",
    "                  reward_func=reward_func,\n",
    "                  noise_std=noise_std,\n",
    "                 )\n",
    "\n",
    "# to check that backward induction works\n",
    "mdp.sanity_policy()"
   ]
  },
  {
   "cell_type": "code",
   "execution_count": 9,
   "metadata": {},
   "outputs": [
    {
     "name": "stderr",
     "output_type": "stream",
     "text": [
      "  0%|          | 0/200 [00:00<?, ?it/s, total regret=0]/home/sauxpa/anaconda3/lib/python3.7/site-packages/torch/nn/modules/loss.py:431: UserWarning: Using a target size (torch.Size([])) that is different to the input size (torch.Size([1])). This will likely lead to incorrect results due to broadcasting. Please ensure they have the same size.\n",
      "  return F.mse_loss(input, target, reduction=self.reduction)\n",
      "100%|██████████| 200/200 [00:35<00:00,  5.66it/s, total regret=1.18] \n"
     ]
    }
   ],
   "source": [
    "regrets = np.empty((n_sim, n_episodes))\n",
    "\n",
    "for i in range(n_sim):\n",
    "    mdp.reset_rewards()\n",
    "    model = NeuralUCBVI(mdp,\n",
    "                        hidden_size=hidden_size,\n",
    "                        n_layers=n_layers,\n",
    "                        p=p,\n",
    "                        n_episodes=n_episodes,\n",
    "                        init_state=0,\n",
    "                        reg_factor=reg_factor,\n",
    "                        confidence_scaling_factor=confidence_scaling_factor,\n",
    "                        learning_rate=0.01,\n",
    "                        epochs=epochs,\n",
    "                        train_every=train_every,\n",
    "                        buffer_size=buffer_size,\n",
    "                        use_cuda=use_cuda,\n",
    "                       )\n",
    "    model.run()\n",
    "    regrets[i] = np.cumsum(model.regrets)"
   ]
  },
  {
   "cell_type": "markdown",
   "metadata": {},
   "source": [
    "### Still sublinear growth"
   ]
  },
  {
   "cell_type": "code",
   "execution_count": 10,
   "metadata": {},
   "outputs": [
    {
     "data": {
      "image/png": "[encoded data removed]",
      "text/plain": [
       "<Figure size 792x576 with 1 Axes>"
      ]
     },
     "metadata": {},
     "output_type": "display_data"
    },
    {
     "data": {
      "image/png": "[encoded data removed]",
      "text/plain": [
       "<Figure size 576x576 with 2 Axes>"
      ]
     },
     "metadata": {
      "needs_background": "light"
     },
     "output_type": "display_data"
    }
   ],
   "source": [
    "with sns.axes_style('darkgrid'):\n",
    "    fig, ax = plt.subplots(figsize=(11, 8), nrows=1, ncols=1)\n",
    "\n",
    "    t = np.arange(n_episodes)\n",
    "    mean_regrets = np.mean(regrets, axis=0)\n",
    "    std_regrets = np.std(regrets, axis=0) / np.sqrt(regrets.shape[0])\n",
    "    ax.plot(mean_regrets)\n",
    "    ax.fill_between(t, mean_regrets - 2*std_regrets, mean_regrets + 2*std_regrets, alpha=0.15)\n",
    "    ax.set_title('Cumulative regret')\n",
    "\n",
    "    plt.tight_layout()\n",
    "    plt.show()\n",
    "\n",
    "    fig.savefig('figures/neural_ucbvi_quad.pdf')\n",
    "\n",
    "fig, axes = plt.subplots(figsize=(8, 8), nrows=1, ncols=2)\n",
    "ax = axes[0]\n",
    "ax.imshow(model.policy, cmap='gray', vmin=0, vmax=mdp.n_actions-1)\n",
    "ax.set_xticks(range(mdp.n_states))\n",
    "ax.set_xlabel('States')\n",
    "ax.set_yticks([])\n",
    "ax.set_ylabel('MDP horizon')\n",
    "ax.set_title('Learned policy')\n",
    "\n",
    "ax = axes[1]\n",
    "ax.imshow(model.pi_star, cmap='gray', vmin=0, vmax=mdp.n_actions-1)\n",
    "ax.set_xticks(range(mdp.n_states))\n",
    "ax.set_xlabel('States')\n",
    "ax.set_yticks([])\n",
    "ax.set_ylabel('MDP horizon')\n",
    "ax.set_title('Optimal policy')\n",
    "\n",
    "plt.tight_layout()\n",
    "plt.show()\n",
    "\n",
    "fig.savefig('figures/neural_ucbvi_quad_policy.pdf')"
   ]
  },
  {
   "cell_type": "markdown",
   "metadata": {},
   "source": [
    "### NeuralUCB-VI on a Linear transition/nonlinear reward MDP"
   ]
  },
  {
   "cell_type": "code",
   "execution_count": 11,
   "metadata": {},
   "outputs": [],
   "source": [
    "a = np.random.randn(n_features)\n",
    "a /= np.linalg.norm(a, ord=2)\n",
    "reward_func = lambda x: np.cos(10*np.pi*np.dot(x, a))\n",
    "\n",
    "mdp = MDPFeatures(H,\n",
    "                  n_states=n_states,\n",
    "                  n_actions=n_actions,\n",
    "                  n_features=n_features,\n",
    "                  reward_func=reward_func,\n",
    "                  noise_std=noise_std,\n",
    "                  )\n",
    "\n",
    "# to check that backward induction works\n",
    "mdp.sanity_policy()"
   ]
  },
  {
   "cell_type": "code",
   "execution_count": 12,
   "metadata": {},
   "outputs": [
    {
     "name": "stderr",
     "output_type": "stream",
     "text": [
      "  0%|          | 0/200 [00:00<?, ?it/s, total regret=2.71]/home/sauxpa/anaconda3/lib/python3.7/site-packages/torch/nn/modules/loss.py:431: UserWarning: Using a target size (torch.Size([])) that is different to the input size (torch.Size([1])). This will likely lead to incorrect results due to broadcasting. Please ensure they have the same size.\n",
      "  return F.mse_loss(input, target, reduction=self.reduction)\n",
      "100%|██████████| 200/200 [00:40<00:00,  4.98it/s, total regret=4.19]\n"
     ]
    }
   ],
   "source": [
    "regrets = np.empty((n_sim, n_episodes))\n",
    "\n",
    "for i in range(n_sim):\n",
    "    mdp.reset_rewards()\n",
    "    model = NeuralUCBVI(mdp,\n",
    "                        hidden_size=hidden_size,\n",
    "                        n_layers=n_layers,\n",
    "                        p=p,\n",
    "                        n_episodes=n_episodes,\n",
    "                        init_state=0,\n",
    "                        reg_factor=reg_factor,\n",
    "                        confidence_scaling_factor=confidence_scaling_factor,\n",
    "                        learning_rate=0.01,\n",
    "                        epochs=epochs,\n",
    "                        train_every=train_every,\n",
    "                        buffer_size=buffer_size,\n",
    "                        use_cuda=use_cuda,\n",
    "                       )\n",
    "    model.run()\n",
    "    regrets[i] = np.cumsum(model.regrets)"
   ]
  },
  {
   "cell_type": "markdown",
   "metadata": {},
   "source": [
    "### Sublinear growth, but not very stable"
   ]
  },
  {
   "cell_type": "code",
   "execution_count": 13,
   "metadata": {},
   "outputs": [
    {
     "data": {
      "image/png": "[encoded data removed]",
      "text/plain": [
       "<Figure size 792x576 with 1 Axes>"
      ]
     },
     "metadata": {},
     "output_type": "display_data"
    },
    {
     "data": {
      "image/png": "[encoded data removed]",
      "text/plain": [
       "<Figure size 576x576 with 2 Axes>"
      ]
     },
     "metadata": {
      "needs_background": "light"
     },
     "output_type": "display_data"
    }
   ],
   "source": [
    "with sns.axes_style('darkgrid'):\n",
    "    fig, ax = plt.subplots(figsize=(11, 8), nrows=1, ncols=1)\n",
    "\n",
    "    t = np.arange(n_episodes)\n",
    "    mean_regrets = np.mean(regrets, axis=0)\n",
    "    std_regrets = np.std(regrets, axis=0) / np.sqrt(regrets.shape[0])\n",
    "    ax.plot(mean_regrets)\n",
    "    ax.fill_between(t, mean_regrets - 2*std_regrets, mean_regrets + 2*std_regrets, alpha=0.15)\n",
    "    ax.set_title('Cumulative regret')\n",
    "\n",
    "    plt.tight_layout()\n",
    "    plt.show()\n",
    "\n",
    "    fig.savefig('figures/neural_ucbvi_cosine.pdf')\n",
    "\n",
    "fig, axes = plt.subplots(figsize=(8, 8), nrows=1, ncols=2)\n",
    "ax = axes[0]\n",
    "ax.imshow(model.policy, cmap='gray', vmin=0, vmax=mdp.n_actions-1)\n",
    "ax.set_xticks(range(mdp.n_states))\n",
    "ax.set_xlabel('States')\n",
    "ax.set_yticks([])\n",
    "ax.set_ylabel('MDP horizon')\n",
    "ax.set_title('Learned policy')\n",
    "\n",
    "ax = axes[1]\n",
    "ax.imshow(model.pi_star, cmap='gray', vmin=0, vmax=mdp.n_actions-1)\n",
    "ax.set_xticks(range(mdp.n_states))\n",
    "ax.set_xlabel('States')\n",
    "ax.set_yticks([])\n",
    "ax.set_ylabel('MDP horizon')\n",
    "ax.set_title('Optimal policy')\n",
    "\n",
    "plt.tight_layout()\n",
    "plt.show()\n",
    "\n",
    "fig.savefig('figures/neural_ucbvi_cosine_policy.pdf')"
   ]
  },
  {
   "cell_type": "code",
   "execution_count": null,
   "metadata": {},
   "outputs": [],
   "source": []
  }
 ],
 "metadata": {
  "kernelspec": {
   "display_name": "Python 3",
   "language": "python",
   "name": "python3"
  },
  "language_info": {
   "codemirror_mode": {
    "name": "ipython",
    "version": 3
   },
   "file_extension": ".py",
   "mimetype": "text/x-python",
   "name": "python",
   "nbconvert_exporter": "python",
   "pygments_lexer": "ipython3",
   "version": "3.7.4"
  }
 },
 "nbformat": 4,
 "nbformat_minor": 2
}
