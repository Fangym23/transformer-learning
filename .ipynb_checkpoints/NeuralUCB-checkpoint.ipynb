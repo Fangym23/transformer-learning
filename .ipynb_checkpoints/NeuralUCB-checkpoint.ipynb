{
 "cells": [
  {
   "cell_type": "code",
   "execution_count": 1,
   "metadata": {},
   "outputs": [
    {
     "data": {
      "text/html": [
       "<style>.container { width:95% !important; } </style>"
      ],
      "text/plain": [
       "<IPython.core.display.HTML object>"
      ]
     },
     "metadata": {},
     "output_type": "display_data"
    }
   ],
   "source": [
    "from IPython.core.display import HTML\n",
    "display(HTML('<style>.container { width:95% !important; } </style>'))\n",
    "\n",
    "%load_ext autoreload\n",
    "%autoreload 2"
   ]
  },
  {
   "cell_type": "code",
   "execution_count": 2,
   "metadata": {},
   "outputs": [],
   "source": [
    "import numpy as np\n",
    "import matplotlib.pyplot as plt\n",
    "import seaborn as sns\n",
    "from neural_exploration import *\n",
    "sns.set()"
   ]
  },
  {
   "cell_type": "markdown",
   "metadata": {},
   "source": [
    "### Bandit settings"
   ]
  },
  {
   "cell_type": "code",
   "execution_count": 3,
   "metadata": {},
   "outputs": [],
   "source": [
    "T = int(5e2)\n",
    "n_arms = 4\n",
    "n_features = 8\n",
    "noise_std = 0.1\n",
    "\n",
    "confidence_scaling_factor = noise_std\n",
    "\n",
    "n_sim = 2\n",
    "\n",
    "SEED = 42\n",
    "np.random.seed(SEED)"
   ]
  },
  {
   "cell_type": "markdown",
   "metadata": {},
   "source": [
    "### Neural network settings"
   ]
  },
  {
   "cell_type": "code",
   "execution_count": 4,
   "metadata": {},
   "outputs": [],
   "source": [
    "p = 0.2\n",
    "hidden_size = 32\n",
    "epochs = 100\n",
    "train_every = 10\n",
    "use_cuda = False"
   ]
  },
  {
   "cell_type": "markdown",
   "metadata": {},
   "source": [
    "### NeuralUCB on linear rewards"
   ]
  },
  {
   "cell_type": "code",
   "execution_count": 5,
   "metadata": {},
   "outputs": [],
   "source": [
    "### mean reward function\n",
    "a = np.random.randn(n_features)\n",
    "a /= np.linalg.norm(a, ord=2)\n",
    "reward_func = lambda x: 10*np.dot(a, x)"
   ]
  },
  {
   "cell_type": "code",
   "execution_count": 6,
   "metadata": {},
   "outputs": [
    {
     "name": "stderr",
     "output_type": "stream",
     "text": [
      "100%|██████████| 500/500 [00:16<00:00, 29.57it/s, total regret=47.2, % optimal arm=96.20%]\n",
      "100%|██████████| 500/500 [00:13<00:00, 36.27it/s, total regret=12.6, % optimal arm=96.40%]\n"
     ]
    }
   ],
   "source": [
    "bandit = ContextualBandit(T, n_arms, n_features, reward_func, noise_std=noise_std, seed=SEED)\n",
    "\n",
    "regrets = np.empty((n_sim, T))\n",
    "\n",
    "for i in range(n_sim):\n",
    "    bandit.reset_rewards()\n",
    "    model = NeuralUCB(bandit,\n",
    "                      hidden_size=hidden_size,\n",
    "                      reg_factor=1.0,\n",
    "                      delta=0.1,\n",
    "                      confidence_scaling_factor=confidence_scaling_factor,\n",
    "                      training_window=100,\n",
    "                      p=p,\n",
    "                      learning_rate=0.01,\n",
    "                      epochs=epochs,\n",
    "                      train_every=train_every,\n",
    "                      use_cuda=use_cuda\n",
    "                     )\n",
    "        \n",
    "    model.run()\n",
    "    regrets[i] = np.cumsum(model.regrets)"
   ]
  },
  {
   "cell_type": "markdown",
   "metadata": {},
   "source": [
    "### Sublinear regret growth : the bandit problem is solved efficiently"
   ]
  },
  {
   "cell_type": "code",
   "execution_count": 7,
   "metadata": {},
   "outputs": [
    {
     "data": {
      "image/png": "[encoded data removed]",
      "text/plain": [
       "<Figure size 792x288 with 1 Axes>"
      ]
     },
     "metadata": {},
     "output_type": "display_data"
    }
   ],
   "source": [
    "fig, ax = plt.subplots(figsize=(11, 4), nrows=1, ncols=1)\n",
    "\n",
    "t = np.arange(T)\n",
    "\n",
    "mean_regrets = np.mean(regrets, axis=0)\n",
    "std_regrets = np.std(regrets, axis=0) / np.sqrt(regrets.shape[0])\n",
    "ax.plot(t, mean_regrets)\n",
    "ax.fill_between(t, mean_regrets - 2*std_regrets, mean_regrets + 2*std_regrets, alpha=0.15)\n",
    "    \n",
    "ax.set_title('Cumulative regret')\n",
    "\n",
    "plt.tight_layout()\n",
    "plt.show()\n",
    "\n",
    "fig.savefig('figures/neural_ucb_linear.pdf')"
   ]
  },
  {
   "cell_type": "markdown",
   "metadata": {},
   "source": [
    "### NeuralUCB on quadratic rewards"
   ]
  },
  {
   "cell_type": "code",
   "execution_count": 8,
   "metadata": {},
   "outputs": [],
   "source": [
    "### mean reward function\n",
    "a = np.random.randn(n_features)\n",
    "a /= np.linalg.norm(a, ord=2)\n",
    "reward_func = lambda x: 100*np.dot(a, x)**2"
   ]
  },
  {
   "cell_type": "code",
   "execution_count": 9,
   "metadata": {},
   "outputs": [
    {
     "name": "stderr",
     "output_type": "stream",
     "text": [
      "100%|██████████| 500/500 [00:13<00:00, 36.99it/s, total regret=1.09e+3, % optimal arm=78.80%]\n",
      "100%|██████████| 500/500 [00:15<00:00, 31.76it/s, total regret=1.26e+3, % optimal arm=78.80%]\n"
     ]
    }
   ],
   "source": [
    "bandit = ContextualBandit(T, n_arms, n_features, reward_func, noise_std=noise_std, seed=SEED)\n",
    "\n",
    "regrets = np.empty((n_sim, T))\n",
    "\n",
    "for i in range(n_sim):\n",
    "    bandit.reset_rewards()\n",
    "    model = NeuralUCB(bandit,\n",
    "                      hidden_size=hidden_size,\n",
    "                      reg_factor=1.0,\n",
    "                      delta=0.1,\n",
    "                      confidence_scaling_factor=confidence_scaling_factor,\n",
    "                      training_window=100,\n",
    "                      p=p,\n",
    "                      learning_rate=0.01,\n",
    "                      epochs=epochs,\n",
    "                      train_every=train_every,\n",
    "                      use_cuda=use_cuda,\n",
    "                     )\n",
    "    model.run()\n",
    "    regrets[i] = np.cumsum(model.regrets)"
   ]
  },
  {
   "cell_type": "markdown",
   "metadata": {},
   "source": [
    "### Sublinear regret growth : the bandit problem is solved efficiently (even though the reward is nonlinear!)"
   ]
  },
  {
   "cell_type": "code",
   "execution_count": 10,
   "metadata": {},
   "outputs": [
    {
     "data": {
      "image/png": "[encoded data removed]",
      "text/plain": [
       "<Figure size 792x288 with 1 Axes>"
      ]
     },
     "metadata": {},
     "output_type": "display_data"
    }
   ],
   "source": [
    "fig, ax = plt.subplots(figsize=(11, 4), nrows=1, ncols=1)\n",
    "\n",
    "t = np.arange(T)\n",
    "\n",
    "mean_regrets = np.mean(regrets, axis=0)\n",
    "std_regrets = np.std(regrets, axis=0) / np.sqrt(regrets.shape[0])\n",
    "ax.plot(t, mean_regrets)\n",
    "ax.fill_between(t, mean_regrets - 2*std_regrets, mean_regrets + 2*std_regrets, alpha=0.15)\n",
    "    \n",
    "ax.set_title('Cumulative regret')\n",
    "\n",
    "plt.tight_layout()\n",
    "plt.show()\n",
    "\n",
    "fig.savefig('figures/neural_ucb_quad.pdf')"
   ]
  },
  {
   "cell_type": "markdown",
   "metadata": {},
   "source": [
    "### NeuralUCB on nonlinear rewards"
   ]
  },
  {
   "cell_type": "code",
   "execution_count": 11,
   "metadata": {},
   "outputs": [],
   "source": [
    "a = np.random.randn(n_features)\n",
    "a /= np.linalg.norm(a, ord=2)\n",
    "reward_func = lambda x: np.cos(2*np.pi*np.dot(x, a))"
   ]
  },
  {
   "cell_type": "code",
   "execution_count": 12,
   "metadata": {},
   "outputs": [
    {
     "name": "stderr",
     "output_type": "stream",
     "text": [
      "100%|██████████| 500/500 [00:19<00:00, 25.34it/s, total regret=121, % optimal arm=56.60%] \n",
      "100%|██████████| 500/500 [00:14<00:00, 35.51it/s, total regret=74.2, % optimal arm=66.20%]\n"
     ]
    }
   ],
   "source": [
    "bandit = ContextualBandit(T, n_arms, n_features, reward_func, noise_std=noise_std, seed=SEED)\n",
    "\n",
    "regrets = np.empty((n_sim, T))\n",
    "\n",
    "for i in range(n_sim):\n",
    "    bandit.reset_rewards()\n",
    "    model = NeuralUCB(bandit,\n",
    "                      hidden_size=hidden_size,\n",
    "                      reg_factor=1.0,\n",
    "                      delta=0.1,\n",
    "                      confidence_scaling_factor=confidence_scaling_factor,\n",
    "                      training_window=100,\n",
    "                      p=p,\n",
    "                      learning_rate=0.01,\n",
    "                      epochs=epochs,\n",
    "                      train_every=train_every,\n",
    "                      use_cuda=use_cuda,\n",
    "                     )\n",
    "    model.run()\n",
    "    regrets[i] = np.cumsum(model.regrets)"
   ]
  },
  {
   "cell_type": "markdown",
   "metadata": {},
   "source": [
    "### Sublinear regret growth : the bandit problem is solved efficiently (even though the reward is nonlinear!)"
   ]
  },
  {
   "cell_type": "code",
   "execution_count": 13,
   "metadata": {},
   "outputs": [
    {
     "data": {
      "image/png": "[encoded data removed]",
      "text/plain": [
       "<Figure size 792x288 with 1 Axes>"
      ]
     },
     "metadata": {},
     "output_type": "display_data"
    }
   ],
   "source": [
    "fig, ax = plt.subplots(figsize=(11, 4), nrows=1, ncols=1)\n",
    "\n",
    "t = np.arange(T)\n",
    "\n",
    "mean_regrets = np.mean(regrets, axis=0)\n",
    "std_regrets = np.std(regrets, axis=0) / np.sqrt(regrets.shape[0])\n",
    "ax.plot(t, mean_regrets)\n",
    "ax.fill_between(t, mean_regrets - 2*std_regrets, mean_regrets + 2*std_regrets, alpha=0.15)\n",
    "    \n",
    "ax.set_title('Cumulative regret')\n",
    "\n",
    "plt.tight_layout()\n",
    "plt.show()\n",
    "\n",
    "fig.savefig('figures/neural_ucb_cosine.pdf')"
   ]
  },
  {
   "cell_type": "code",
   "execution_count": null,
   "metadata": {},
   "outputs": [],
   "source": []
  }
 ],
 "metadata": {
  "kernelspec": {
   "display_name": "Python 3",
   "language": "python",
   "name": "python3"
  },
  "language_info": {
   "codemirror_mode": {
    "name": "ipython",
    "version": 3
   },
   "file_extension": ".py",
   "mimetype": "text/x-python",
   "name": "python",
   "nbconvert_exporter": "python",
   "pygments_lexer": "ipython3",
   "version": "3.7.4"
  }
 },
 "nbformat": 4,
 "nbformat_minor": 2
}
